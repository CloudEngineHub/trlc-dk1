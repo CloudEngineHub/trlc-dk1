{
 "cells": [
  {
   "cell_type": "code",
   "execution_count": 1,
   "id": "9d47958a",
   "metadata": {},
   "outputs": [
    {
     "name": "stdout",
     "output_type": "stream",
     "text": [
      "Serial port is open\n"
     ]
    }
   ],
   "source": [
    "from dk1.DM_Control_Python.DM_CAN import *\n",
    "import serial\n",
    "\n",
    "motor1=Motor(DM_Motor_Type.DM4340, 0x01, 0x11)\n",
    "motor2=Motor(DM_Motor_Type.DM4340, 0x02, 0x12)\n",
    "motor3=Motor(DM_Motor_Type.DM4340, 0x03, 0x13)\n",
    "motor4=Motor(DM_Motor_Type.DM4310, 0x04, 0x14)\n",
    "motor5=Motor(DM_Motor_Type.DM4310, 0x05, 0x15)\n",
    "motor6=Motor(DM_Motor_Type.DM4310, 0x06, 0x16)\n",
    "# motor7=Motor(DM_Motor_Type.DM4310, 0x07, 0x17)\n",
    "\n",
    "motors = [motor1, motor2, motor3, motor4, motor5, motor6]\n",
    "\n",
    "serial_device = serial.Serial('/dev/tty.usbmodem00000000050C1', 921600, timeout=0.5)\n",
    "control=MotorControl(serial_device)\n",
    "\n",
    "for motor in motors:\n",
    "    control.addMotor(motor)\n",
    "\n",
    "for motor in motors:\n",
    "    control.switchControlMode(motor, Control_Type.POS_VEL)\n",
    "    control.enable(motor)"
   ]
  },
  {
   "cell_type": "code",
   "execution_count": 2,
   "id": "9584118d",
   "metadata": {},
   "outputs": [
    {
     "name": "stdout",
     "output_type": "stream",
     "text": [
      "Write success: 1\n",
      "Write success: 2\n",
      "Write success: 3\n",
      "Write success: 4\n",
      "Write success: 5\n",
      "Write success: 6\n"
     ]
    }
   ],
   "source": [
    "for motor in motors:\n",
    "    if control.change_motor_param(motor, DM_variable.KP_APR, 120):\n",
    "        print(\"Write success:\", motor.SlaveID)"
   ]
  },
  {
   "cell_type": "code",
   "execution_count": null,
   "id": "9d9ba991",
   "metadata": {},
   "outputs": [],
   "source": [
    "# control.set_zero_position(motor6)"
   ]
  },
  {
   "cell_type": "code",
   "execution_count": 175,
   "id": "42b3be31",
   "metadata": {},
   "outputs": [],
   "source": [
    "for motor in motors[:3]:\n",
    "    if control.change_motor_param(motor, DM_variable.ACC, 2.0):\n",
    "        print(\"Write success: \", motor.SlaveID)"
   ]
  },
  {
   "cell_type": "code",
   "execution_count": 191,
   "id": "75029830",
   "metadata": {},
   "outputs": [
    {
     "name": "stdout",
     "output_type": "stream",
     "text": [
      "2.0\n",
      "2.0\n",
      "2.0\n",
      "2.0\n",
      "2.0\n",
      "2.0\n"
     ]
    }
   ],
   "source": [
    "for motor in motors:\n",
    "    print(control.read_motor_param(motor, DM_variable.ACC))"
   ]
  },
  {
   "cell_type": "code",
   "execution_count": null,
   "id": "2e65f86e",
   "metadata": {},
   "outputs": [],
   "source": [
    "# for motor in motors:\n",
    "#     control.set_zero_position(motor)"
   ]
  },
  {
   "cell_type": "code",
   "execution_count": 8,
   "id": "80a8eec2",
   "metadata": {},
   "outputs": [
    {
     "name": "stdout",
     "output_type": "stream",
     "text": [
      "Motor 1: 0.02\n",
      "Motor 2: -0.51\n",
      "Motor 3: -0.01\n",
      "Motor 4: -0.56\n",
      "Motor 5: -0.00\n",
      "Motor 6: -0.01\n"
     ]
    }
   ],
   "source": [
    "for motor in motors:\n",
    "    control.refresh_motor_status(motor)\n",
    "    print(f\"Motor {motor.SlaveID}: {motor.getPosition():.2f}\")\n"
   ]
  },
  {
   "cell_type": "code",
   "execution_count": null,
   "id": "3693684b",
   "metadata": {},
   "outputs": [],
   "source": [
    "v_des=0.5\n",
    "\n",
    "\n",
    "for motor in motors:\n",
    "    control.control_Pos_Vel(motor, P_desired=0.0 , V_desired=v_des)"
   ]
  },
  {
   "cell_type": "code",
   "execution_count": 227,
   "id": "b1fc0069",
   "metadata": {},
   "outputs": [],
   "source": [
    "v_des=0.3\n",
    "\n",
    "for motor in motors:\n",
    "    control.control_Pos_Vel(motor, P_desired=np.pi/4, V_desired=v_des)"
   ]
  },
  {
   "cell_type": "code",
   "execution_count": 5,
   "id": "4db1a09d",
   "metadata": {},
   "outputs": [],
   "source": [
    "# COOLE POSTITION\n",
    "\n",
    "control.control_Pos_Vel(motor2, P_desired=np.pi/4 , V_desired=v_des)\n",
    "control.control_Pos_Vel(motor3, P_desired=np.pi/4 , V_desired=v_des)"
   ]
  },
  {
   "cell_type": "code",
   "execution_count": 216,
   "id": "9a95dc63",
   "metadata": {},
   "outputs": [],
   "source": [
    "import numpy as np\n",
    "\n",
    "v_des=0.5\n",
    "\n",
    "control.control_Pos_Vel(motor1, P_desired=-np.pi/4 , V_desired=v_des)\n",
    "control.control_Pos_Vel(motor2, P_desired=np.pi/8 , V_desired=v_des)\n",
    "control.control_Pos_Vel(motor3, P_desired=np.pi/4 , V_desired=v_des)\n",
    "control.control_Pos_Vel(motor4, P_desired=-np.pi/8 , V_desired=v_des)\n",
    "control.control_Pos_Vel(motor5, P_desired=np.pi/4 , V_desired=v_des)"
   ]
  },
  {
   "cell_type": "code",
   "execution_count": 218,
   "id": "31d21f5d",
   "metadata": {},
   "outputs": [],
   "source": [
    "# AUSGESTRECKT\n",
    "\n",
    "v_des=0.5\n",
    "\n",
    "control.control_Pos_Vel(motor2, P_desired=np.pi/2 , V_desired=v_des)\n",
    "control.control_Pos_Vel(motor3, P_desired=np.pi , V_desired=v_des)"
   ]
  },
  {
   "cell_type": "code",
   "execution_count": 207,
   "id": "8dd6fa42",
   "metadata": {},
   "outputs": [],
   "source": [
    "control.control_Pos_Vel(motor5, P_desired=np.pi/4 , V_desired=v_des)\n"
   ]
  },
  {
   "cell_type": "code",
   "execution_count": 205,
   "id": "8cb9a931",
   "metadata": {},
   "outputs": [],
   "source": [
    "control.control_Pos_Vel(motor6, P_desired=np.pi/2 , V_desired=v_des)\n"
   ]
  },
  {
   "cell_type": "code",
   "execution_count": 9,
   "id": "3549cd30",
   "metadata": {},
   "outputs": [],
   "source": [
    "for motor in motors:\n",
    "    control.disable(motor)  "
   ]
  }
 ],
 "metadata": {
  "kernelspec": {
   "display_name": "dk1",
   "language": "python",
   "name": "python3"
  },
  "language_info": {
   "codemirror_mode": {
    "name": "ipython",
    "version": 3
   },
   "file_extension": ".py",
   "mimetype": "text/x-python",
   "name": "python",
   "nbconvert_exporter": "python",
   "pygments_lexer": "ipython3",
   "version": "3.10.18"
  }
 },
 "nbformat": 4,
 "nbformat_minor": 5
}
