{
 "cells": [
  {
   "cell_type": "code",
   "execution_count": 12,
   "id": "733ec985",
   "metadata": {},
   "outputs": [
    {
     "name": "stdout",
     "output_type": "stream",
     "text": [
      "/Users/jannik/.cache/huggingface/lerobot/calibration/teleoperators/dk1_leader\n"
     ]
    }
   ],
   "source": [
    "from dk1.dk1_leader import DK1LeaderConfig, DK1Leader\n",
    "import time\n",
    "import numpy as np\n",
    "\n",
    "leader_config = DK1LeaderConfig(\n",
    "    port=\"/dev/tty.usbmodem58FA0824311\",\n",
    ")\n",
    "\n",
    "leader = DK1Leader(leader_config)\n",
    "leader.connect()"
   ]
  },
  {
   "cell_type": "code",
   "execution_count": 13,
   "id": "a94e64a4",
   "metadata": {},
   "outputs": [
    {
     "data": {
      "text/plain": [
       "{'joint_1.pos': 0.012271846303085088,\n",
       " 'joint_2.pos': -0.0337475773334841,\n",
       " 'joint_3.pos': -0.03067961575771294,\n",
       " 'joint_4.pos': -0.04295146206079803,\n",
       " 'joint_5.pos': -0.035281558121369905,\n",
       " 'joint_6.pos': 0.11044661672776623,\n",
       " 'gripper.pos': 0.019261637239165297}"
      ]
     },
     "execution_count": 13,
     "metadata": {},
     "output_type": "execute_result"
    }
   ],
   "source": [
    "leader.get_action()"
   ]
  },
  {
   "cell_type": "code",
   "execution_count": 14,
   "id": "2c34f05c",
   "metadata": {},
   "outputs": [
    {
     "data": {
      "text/plain": [
       "{'joint_1': 2056,\n",
       " 'joint_2': 2026,\n",
       " 'joint_3': 2028,\n",
       " 'joint_4': 2020,\n",
       " 'joint_5': 2025,\n",
       " 'joint_6': 2119,\n",
       " 'gripper': 2278}"
      ]
     },
     "execution_count": 14,
     "metadata": {},
     "output_type": "execute_result"
    }
   ],
   "source": [
    "leader.bus.sync_read(normalize=False, data_name=\"Present_Position\")"
   ]
  },
  {
   "cell_type": "code",
   "execution_count": 27,
   "id": "af4222e5",
   "metadata": {},
   "outputs": [],
   "source": [
    "leader.bus.write(\"Torque_Enable\", \"joint_1\", 1, normalize=False)\n",
    "leader.bus.write(\"Goal_Position\", \"joint_1\", 2048, normalize=False)"
   ]
  },
  {
   "cell_type": "code",
   "execution_count": 10,
   "id": "04028b62",
   "metadata": {},
   "outputs": [],
   "source": [
    "leader.bus.write(\"Torque_Enable\", \"joint_2\", 1, normalize=False)\n",
    "leader.bus.write(\"Torque_Enable\", \"joint_3\", 1, normalize=False)\n",
    "leader.bus.write(\"Goal_Position\", \"joint_2\", 2300, normalize=False)\n",
    "leader.bus.write(\"Goal_Position\", \"joint_3\", 2300, normalize=False)"
   ]
  },
  {
   "cell_type": "code",
   "execution_count": 28,
   "id": "fa028b16",
   "metadata": {},
   "outputs": [],
   "source": [
    "leader.bus.write(\"Torque_Enable\", \"joint_4\", 1, normalize=False)\n",
    "leader.bus.write(\"Goal_Position\", \"joint_4\", 2048, normalize=False)"
   ]
  },
  {
   "cell_type": "code",
   "execution_count": 29,
   "id": "eb2a9320",
   "metadata": {},
   "outputs": [],
   "source": [
    "for joint in leader.bus.motors:\n",
    "    leader.bus.write(\"Torque_Enable\", joint, 0, normalize=False)\n"
   ]
  }
 ],
 "metadata": {
  "kernelspec": {
   "display_name": "dk1",
   "language": "python",
   "name": "python3"
  },
  "language_info": {
   "codemirror_mode": {
    "name": "ipython",
    "version": 3
   },
   "file_extension": ".py",
   "mimetype": "text/x-python",
   "name": "python",
   "nbconvert_exporter": "python",
   "pygments_lexer": "ipython3",
   "version": "3.10.18"
  }
 },
 "nbformat": 4,
 "nbformat_minor": 5
}
