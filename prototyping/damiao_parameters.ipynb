{
 "cells": [
  {
   "cell_type": "code",
   "execution_count": 1,
   "id": "329bc71a",
   "metadata": {},
   "outputs": [
    {
     "name": "stdout",
     "output_type": "stream",
     "text": [
      "Serial port is open\n"
     ]
    }
   ],
   "source": [
    "from dk1.DM_Control_Python.DM_CAN import *\n",
    "import serial\n",
    "\n",
    "motor=Motor(DM_Motor_Type.DM4340, 0x07, 0x17)\n",
    "\n",
    "serial_device = serial.Serial('/dev/tty.usbmodem00000000050C1', 921600, timeout=0.5)\n",
    "control=MotorControl(serial_device)\n",
    "control.addMotor(motor)\n",
    "control.enable(motor)"
   ]
  },
  {
   "cell_type": "code",
   "execution_count": 2,
   "id": "8078f842",
   "metadata": {},
   "outputs": [],
   "source": [
    "control.set_zero_position(motor)"
   ]
  },
  {
   "cell_type": "code",
   "execution_count": 21,
   "id": "30e1eac7",
   "metadata": {},
   "outputs": [
    {
     "name": "stdout",
     "output_type": "stream",
     "text": [
      "-0.00019073777\n"
     ]
    }
   ],
   "source": [
    "control.refresh_motor_status(motor1)\n",
    "print(motor1.getPosition())"
   ]
  },
  {
   "cell_type": "code",
   "execution_count": 44,
   "id": "38169e8f",
   "metadata": {},
   "outputs": [],
   "source": [
    "control.control_Pos_Vel(motor1, P_desired=0.0 , V_desired=5.0)"
   ]
  },
  {
   "cell_type": "code",
   "execution_count": 43,
   "id": "78492597",
   "metadata": {},
   "outputs": [],
   "source": [
    "control.control_Pos_Vel(motor1, P_desired=-1.5 , V_desired=5.0)"
   ]
  },
  {
   "cell_type": "code",
   "execution_count": 41,
   "id": "25b92a13",
   "metadata": {},
   "outputs": [
    {
     "data": {
      "text/plain": [
       "500.0"
      ]
     },
     "execution_count": 41,
     "metadata": {},
     "output_type": "execute_result"
    }
   ],
   "source": [
    "control.read_motor_param(motor1, DM_variable.KP_APR) # orig: 54"
   ]
  },
  {
   "cell_type": "code",
   "execution_count": 40,
   "id": "2be9aae8",
   "metadata": {},
   "outputs": [],
   "source": [
    "if control.change_motor_param(motor1, DM_variable.KP_APR, 500):\n",
    "   print(\"Write success\")"
   ]
  },
  {
   "cell_type": "code",
   "execution_count": 4,
   "id": "b1c59f1f",
   "metadata": {},
   "outputs": [],
   "source": [
    "control.disable(motor1)"
   ]
  }
 ],
 "metadata": {
  "kernelspec": {
   "display_name": "dk1",
   "language": "python",
   "name": "python3"
  },
  "language_info": {
   "codemirror_mode": {
    "name": "ipython",
    "version": 3
   },
   "file_extension": ".py",
   "mimetype": "text/x-python",
   "name": "python",
   "nbconvert_exporter": "python",
   "pygments_lexer": "ipython3",
   "version": "3.10.18"
  }
 },
 "nbformat": 4,
 "nbformat_minor": 5
}
