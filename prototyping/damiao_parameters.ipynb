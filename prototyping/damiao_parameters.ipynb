{
 "cells": [
  {
   "cell_type": "code",
   "execution_count": 7,
   "id": "329bc71a",
   "metadata": {},
   "outputs": [
    {
     "name": "stdout",
     "output_type": "stream",
     "text": [
      "Serial port is open\n",
      "switch MIT success\n"
     ]
    }
   ],
   "source": [
    "from dk1.DM_Control_Python.DM_CAN import *\n",
    "import serial\n",
    "\n",
    "motor1=Motor(DM_Motor_Type.DM4310, 0x01, 0x11)\n",
    "\n",
    "serial_device = serial.Serial('/dev/tty.usbmodem00000000050C1', 921600, timeout=0.5)\n",
    "control=MotorControl(serial_device)\n",
    "control.addMotor(motor1)\n",
    "\n",
    "if control.switchControlMode(motor1, Control_Type.Torque_Pos):\n",
    "    print(\"switch MIT success\")\n",
    "\n",
    "# control.enable(motor1)"
   ]
  },
  {
   "cell_type": "code",
   "execution_count": 12,
   "id": "25b92a13",
   "metadata": {},
   "outputs": [
    {
     "data": {
      "text/plain": [
       "0.7528016567230225"
      ]
     },
     "execution_count": 12,
     "metadata": {},
     "output_type": "execute_result"
    }
   ],
   "source": [
    "control.read_motor_param(motor1, DM_variable.p_m)"
   ]
  },
  {
   "cell_type": "code",
   "execution_count": 3,
   "id": "49434417",
   "metadata": {},
   "outputs": [],
   "source": [
    "if control.change_motor_param(motor1, DM_variable.p_m, 0.0):\n",
    "   print(\"Write success\")"
   ]
  },
  {
   "cell_type": "code",
   "execution_count": null,
   "id": "7cd258e1",
   "metadata": {},
   "outputs": [],
   "source": []
  },
  {
   "cell_type": "code",
   "execution_count": 45,
   "id": "fcc85d68",
   "metadata": {},
   "outputs": [
    {
     "data": {
      "text/plain": [
       "-0.43989452719688416"
      ]
     },
     "execution_count": 45,
     "metadata": {},
     "output_type": "execute_result"
    }
   ],
   "source": [
    "control.refresh_motor_status(motor1)\n",
    "control.read_motor_param(motor1, DM_variable.p_m)"
   ]
  },
  {
   "cell_type": "code",
   "execution_count": 39,
   "id": "b1c59f1f",
   "metadata": {},
   "outputs": [],
   "source": [
    "control.disable(motor1)"
   ]
  }
 ],
 "metadata": {
  "kernelspec": {
   "display_name": "dk1",
   "language": "python",
   "name": "python3"
  },
  "language_info": {
   "codemirror_mode": {
    "name": "ipython",
    "version": 3
   },
   "file_extension": ".py",
   "mimetype": "text/x-python",
   "name": "python",
   "nbconvert_exporter": "python",
   "pygments_lexer": "ipython3",
   "version": "3.10.18"
  }
 },
 "nbformat": 4,
 "nbformat_minor": 5
}
