{
 "cells": [
  {
   "cell_type": "code",
   "execution_count": 1,
   "id": "331fe373",
   "metadata": {},
   "outputs": [],
   "source": [
    "open_position = 2.621\n",
    "closed_position = -2.178"
   ]
  },
  {
   "cell_type": "code",
   "execution_count": 35,
   "id": "ab920879",
   "metadata": {},
   "outputs": [
    {
     "name": "stdout",
     "output_type": "stream",
     "text": [
      "Serial port is open\n",
      "switch to Torque_Pos success\n"
     ]
    }
   ],
   "source": [
    "from dk1.DM_Control_Python.DM_CAN import *\n",
    "import serial\n",
    "import time\n",
    "\n",
    "DM4310_TORQUE_CONSTANT = 0.945 # Nm/A\n",
    "VELOCITY_SCALE = 100 # rad/s\n",
    "CURRENT_SCALE = 1000 # A\n",
    "\n",
    "motor1=Motor(DM_Motor_Type.DM4310, 0x01, 0x11)\n",
    "\n",
    "serial_device = serial.Serial('/dev/tty.usbmodem00000000050C1', 921600, timeout=0.5)\n",
    "control=MotorControl(serial_device)\n",
    "control.addMotor(motor1)\n",
    "\n",
    "if control.switchControlMode(motor1, Control_Type.Torque_Pos):\n",
    "    print(\"switch to Torque_Pos success\")\n",
    "\n",
    "control.enable(motor1)\n",
    "\n",
    "max_velocity = 20.0 # rad/s\n",
    "max_torque = 0.4 # Nm"
   ]
  },
  {
   "cell_type": "code",
   "execution_count": 37,
   "id": "948081a8",
   "metadata": {},
   "outputs": [],
   "source": [
    "control.control_pos_force(Motor=motor1, Pos_des=open_position, Vel_des=max_velocity*VELOCITY_SCALE, i_des=max_torque/DM4310_TORQUE_CONSTANT*CURRENT_SCALE)\n"
   ]
  },
  {
   "cell_type": "code",
   "execution_count": 36,
   "id": "ff666914",
   "metadata": {},
   "outputs": [],
   "source": [
    "control.control_pos_force(Motor=motor1, Pos_des=closed_position, Vel_des=max_velocity*VELOCITY_SCALE, i_des=max_torque/DM4310_TORQUE_CONSTANT*CURRENT_SCALE)\n"
   ]
  },
  {
   "cell_type": "code",
   "execution_count": 38,
   "id": "796c9e81",
   "metadata": {},
   "outputs": [],
   "source": [
    "control.disable(motor1)\n"
   ]
  }
 ],
 "metadata": {
  "kernelspec": {
   "display_name": "dk1",
   "language": "python",
   "name": "python3"
  },
  "language_info": {
   "codemirror_mode": {
    "name": "ipython",
    "version": 3
   },
   "file_extension": ".py",
   "mimetype": "text/x-python",
   "name": "python",
   "nbconvert_exporter": "python",
   "pygments_lexer": "ipython3",
   "version": "3.10.18"
  }
 },
 "nbformat": 4,
 "nbformat_minor": 5
}
