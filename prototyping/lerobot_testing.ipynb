{
 "cells": [
  {
   "cell_type": "code",
   "execution_count": 7,
   "id": "a01ce88a",
   "metadata": {},
   "outputs": [
    {
     "name": "stdout",
     "output_type": "stream",
     "text": [
      "Serial port is open\n"
     ]
    }
   ],
   "source": [
    "from dk1.dk1_follower import DK1FollowerConfig, DK1Follower\n",
    "\n",
    "robot_config = DK1FollowerConfig(\n",
    "    port=\"/dev/tty.usbmodem00000000050C1\",\n",
    "    id=\"my_red_robot_arm\",\n",
    "    cameras={},\n",
    ")\n",
    "\n",
    "robot = DK1Follower(robot_config)\n",
    "robot.connect()"
   ]
  },
  {
   "cell_type": "code",
   "execution_count": 6,
   "id": "9b0aec65",
   "metadata": {},
   "outputs": [
    {
     "name": "stdout",
     "output_type": "stream",
     "text": [
      "/Users/jannik/.cache/huggingface/lerobot/calibration/teleoperators/dk1_leader\n"
     ]
    },
    {
     "data": {
      "text/plain": [
       "{'joint_1': 1958,\n",
       " 'joint_2': 2047,\n",
       " 'joint_3': 2047,\n",
       " 'joint_4': 2047,\n",
       " 'joint_5': 2045,\n",
       " 'joint_6': 2115}"
      ]
     },
     "execution_count": 6,
     "metadata": {},
     "output_type": "execute_result"
    }
   ],
   "source": [
    "from dk1.dk1_leader import DK1LeaderConfig, DK1Leader\n",
    "\n",
    "leader_config = DK1LeaderConfig(\n",
    "    port=\"/dev/tty.usbmodem58FA0824281\",\n",
    ")\n",
    "\n",
    "leader = DK1Leader(leader_config)\n",
    "leader.connect()\n",
    "\n",
    "leader.bus.sync_read(normalize=False, data_name=\"Present_Position\")"
   ]
  },
  {
   "cell_type": "code",
   "execution_count": 2,
   "id": "8695f7f3",
   "metadata": {},
   "outputs": [
    {
     "data": {
      "text/plain": [
       "{'joint_1.pos': np.float32(-0.031853206),\n",
       " 'joint_2.pos': np.float32(-0.5003052),\n",
       " 'joint_3.pos': np.float32(-0.013923857),\n",
       " 'joint_4.pos': np.float32(-0.5548562),\n",
       " 'joint_5.pos': np.float32(0.08335241),\n",
       " 'joint_6.pos': np.float32(-0.026894026)}"
      ]
     },
     "execution_count": 2,
     "metadata": {},
     "output_type": "execute_result"
    }
   ],
   "source": [
    "robot.get_observation()"
   ]
  },
  {
   "cell_type": "code",
   "execution_count": 8,
   "id": "25c230a7",
   "metadata": {},
   "outputs": [
    {
     "data": {
      "text/plain": [
       "{'joint_1.pos': 0.7853981633974483,\n",
       " 'joint_2.pos': 0.7853981633974483,\n",
       " 'joint_3.pos': 0.7853981633974483,\n",
       " 'joint_4.pos': 0.7853981633974483,\n",
       " 'joint_5.pos': 0.7853981633974483,\n",
       " 'joint_6.pos': 0.7853981633974483}"
      ]
     },
     "execution_count": 8,
     "metadata": {},
     "output_type": "execute_result"
    }
   ],
   "source": [
    "import numpy as np\n",
    "\n",
    "action = {\"joint_1.pos\": np.pi/4,\n",
    "          \"joint_2.pos\": np.pi/4,\n",
    "          \"joint_3.pos\": np.pi/4,\n",
    "          \"joint_4.pos\": np.pi/4,\n",
    "          \"joint_5.pos\": np.pi/4,\n",
    "          \"joint_6.pos\": np.pi/4}\n",
    "\n",
    "robot.send_action(action)"
   ]
  },
  {
   "cell_type": "code",
   "execution_count": 9,
   "id": "f58da0d0",
   "metadata": {},
   "outputs": [
    {
     "data": {
      "text/plain": [
       "{'joint_1.pos': 0.0,\n",
       " 'joint_2.pos': 0.0,\n",
       " 'joint_3.pos': 0.0,\n",
       " 'joint_4.pos': 0.0,\n",
       " 'joint_5.pos': 0.0,\n",
       " 'joint_6.pos': 0.0}"
      ]
     },
     "execution_count": 9,
     "metadata": {},
     "output_type": "execute_result"
    }
   ],
   "source": [
    "\n",
    "action = {\"joint_1.pos\": 0.0,\n",
    "          \"joint_2.pos\": 0.0,\n",
    "          \"joint_3.pos\": 0.0,\n",
    "          \"joint_4.pos\": 0.0,\n",
    "          \"joint_5.pos\": 0.0,\n",
    "          \"joint_6.pos\": 0.0}\n",
    "\n",
    "robot.send_action(action)"
   ]
  },
  {
   "cell_type": "code",
   "execution_count": 5,
   "id": "e7700149",
   "metadata": {},
   "outputs": [],
   "source": [
    "robot.disconnect()"
   ]
  }
 ],
 "metadata": {
  "kernelspec": {
   "display_name": "dk1",
   "language": "python",
   "name": "python3"
  },
  "language_info": {
   "codemirror_mode": {
    "name": "ipython",
    "version": 3
   },
   "file_extension": ".py",
   "mimetype": "text/x-python",
   "name": "python",
   "nbconvert_exporter": "python",
   "pygments_lexer": "ipython3",
   "version": "3.10.18"
  }
 },
 "nbformat": 4,
 "nbformat_minor": 5
}
